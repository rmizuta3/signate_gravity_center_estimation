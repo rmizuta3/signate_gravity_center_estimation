{
 "cells": [
  {
   "cell_type": "code",
   "execution_count": 20,
   "metadata": {},
   "outputs": [],
   "source": [
    "import json\n",
    "import pandas as pd\n",
    "import numpy as np\n",
    "import matplotlib.pyplot as plt\n",
    "import glob\n",
    "import json\n",
    "import scipy.io as sio"
   ]
  },
  {
   "cell_type": "code",
   "execution_count": 21,
   "metadata": {},
   "outputs": [],
   "source": [
    "\n",
    "output_path = \"./submit/best_submission.json\"\n",
    "l1 = glob.glob(\"./output/type_0_0/preds/*.npy\")\n",
    "l2 = glob.glob(\"./output/type_0_1/preds/*.npy\")\n",
    "l3 = glob.glob(\"./output/type_1_0/preds/*.npy\")\n",
    "l4 = glob.glob(\"./output/type_1_1/preds/*.npy\")\n",
    "\n",
    "l = l1 + l2 + l3 + l4"
   ]
  },
  {
   "cell_type": "code",
   "execution_count": 22,
   "metadata": {},
   "outputs": [],
   "source": [
    "def process_predictions(file_paths, aug=1, fold5=1):\n",
    "    pred_all = []\n",
    "    for file_path in file_paths:\n",
    "        tmp_pred = np.load(file_path)\n",
    "        pred_all.append(tmp_pred)\n",
    "    pred_all = np.concatenate(pred_all, axis=2)\n",
    "    \n",
    "    print(pred_all.shape)\n",
    "\n",
    "    if fold5 == 1:\n",
    "        pred_all = np.median(pred_all, axis=2)\n",
    "        #pred_all = np.mean(pred_all, axis=2)\n",
    "    else:\n",
    "        pred_all = pred_all[:, :, 0]\n",
    "\n",
    "    pred_all = pred_all.reshape(-1, 90)\n",
    "    if aug == 1:\n",
    "        pred_all_even = pred_all[::2]\n",
    "        pred_all_odd = pred_all[1::2]\n",
    "        pred_all_result = (pred_all_even + pred_all_odd) / 2\n",
    "    else:\n",
    "        pred_all_result = pred_all\n",
    "\n",
    "    pred_all_result = pred_all_result.reshape(-1, 3, 30)\n",
    "    pred_all_result[:, 0, :] = -pred_all_result[:, 0, :]\n",
    "    pred_all_result[:, 1, :] = -pred_all_result[:, 1, :]\n",
    "    pred_all = pred_all_result\n",
    "    pred = pred_all[-320:]\n",
    "    return pred, pred_all\n"
   ]
  },
  {
   "cell_type": "code",
   "execution_count": 23,
   "metadata": {},
   "outputs": [
    {
     "name": "stdout",
     "output_type": "stream",
     "text": [
      "(3158, 90, 20)\n"
     ]
    }
   ],
   "source": [
    "_, pred = process_predictions(l, aug=1, fold5=1)"
   ]
  },
  {
   "cell_type": "code",
   "execution_count": 24,
   "metadata": {},
   "outputs": [
    {
     "data": {
      "text/plain": [
       "(1579, 3, 30)"
      ]
     },
     "execution_count": 24,
     "metadata": {},
     "output_type": "execute_result"
    }
   ],
   "source": [
    "pred.shape"
   ]
  },
  {
   "cell_type": "code",
   "execution_count": 26,
   "metadata": {},
   "outputs": [],
   "source": [
    "# 提出用のファイルを作成\n",
    "with open(\"../input/sample_submit.json\") as r:\n",
    "    sample_submit = json.load(r)\n",
    "\n",
    "keys_1 = sample_submit.keys()\n",
    "user_trial_counts = [319,300,320,320]\n",
    "\n",
    "ind = 0\n",
    "for key,user_trial_count in zip(keys_1, user_trial_counts):\n",
    "    for i, trial_key in enumerate(sample_submit[key].keys()):\n",
    "        sample_submit[key][trial_key] = pred[i+ind].T\n",
    "    ind += user_trial_count\n",
    "\n",
    "# 予測結果の中身に問題がないことの確認\n",
    "for k in sample_submit.keys():\n",
    "    for kk in sample_submit[k].keys():\n",
    "        # (30, 3)の形でなければ例外を出す\n",
    "        if np.array(sample_submit[k][kk]).shape != (30, 3):\n",
    "            print(f\"invalid: {k} {kk}\")\n",
    "\n",
    "def ndarray_to_list(obj):\n",
    "    if isinstance(obj, np.ndarray):\n",
    "        return obj.tolist()\n",
    "    raise TypeError(f\"Object of type {obj.__class__.__name__} is not JSON serializable\")\n",
    "with open(output_path, \"w\") as f:\n",
    "    json.dump(sample_submit, f, default=ndarray_to_list)"
   ]
  }
 ],
 "metadata": {
  "kernelspec": {
   "display_name": "Python 3",
   "language": "python",
   "name": "python3"
  },
  "language_info": {
   "codemirror_mode": {
    "name": "ipython",
    "version": 3
   },
   "file_extension": ".py",
   "mimetype": "text/x-python",
   "name": "python",
   "nbconvert_exporter": "python",
   "pygments_lexer": "ipython3",
   "version": "3.10.14"
  }
 },
 "nbformat": 4,
 "nbformat_minor": 2
}
